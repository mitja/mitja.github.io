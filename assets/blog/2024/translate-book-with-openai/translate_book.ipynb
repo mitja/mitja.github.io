{
 "cells": [
  {
   "cell_type": "markdown",
   "metadata": {},
   "source": [
    "# Translate a Book written in MyST Markdown from English to German\n",
    "\n",
    "In this notebook, I'll use the OpenAI API to translate a book written in MyST Markdown from English to German.\n",
    "\n",
    "I use my ebook about []() as an example. The book is written in MyST Markdown and contains a lot Excel tables and formulas which need special consideration.\n",
    "\n",
    "The task is performed in the following steps:\n",
    "\n",
    "1. Load the book\n",
    "2. Split the book into sections (eg. paragraphs)\n",
    "3. Translate each section\n",
    "4. Save the translated book\n",
    "\n",
    "This notebook is based on [an OpenAI Cookbook example](https://github.com/openai/openai-cookbook/blob/main/examples/book_translation/translate_latex_book.ipynb).\n",
    "\n"
   ]
  },
  {
   "cell_type": "markdown",
   "metadata": {},
   "source": []
  },
  {
   "cell_type": "code",
   "execution_count": null,
   "metadata": {},
   "outputs": [],
   "source": []
  }
 ],
 "metadata": {
  "language_info": {
   "name": "python"
  }
 },
 "nbformat": 4,
 "nbformat_minor": 2
}
