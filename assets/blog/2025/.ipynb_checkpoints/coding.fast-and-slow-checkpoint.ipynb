{
 "cells": [
  {
   "cell_type": "markdown",
   "id": "023c5782-aa84-4cca-a2ad-a1b5950570fd",
   "metadata": {},
   "source": [
    "# AOC 2023 1a - Trebuchet?!\n",
    "\n",
    "Source: https://adventofcode.com/2023/day/1\n",
    "\n",
    "## Puzzle\n",
    "\n",
    "The newly-improved calibration document consists of lines of text; each line originally contained a specific calibration value that the Elves now need to recover. On each line, the calibration value can be found by **combining the first digit and the last digit (in that order) to form a single two-digit number**.\n",
    "\n",
    "For example:\n",
    "\n",
    "```\n",
    "1abc2\n",
    "pqr3stu8vwx\n",
    "a1b2c3d4e5f\n",
    "treb7uchet\n",
    "```\n",
    "\n",
    "In this example, the calibration values of these four lines are 12, 38, 15, and 77. Adding these together produces 142.\n",
    "\n",
    "Consider your entire calibration document. What is the sum of all of the calibration values?"
   ]
  },
  {
   "cell_type": "code",
   "execution_count": null,
   "id": "95cba3fa-60c6-431a-8ca2-838d1e7240c6",
   "metadata": {},
   "outputs": [
    {
     "data": {
      "text/plain": [
       "['1abc2', 'pqr3stu8vwx', 'a1b2c3d4e5f', 'treb7uchet']"
      ]
     },
     "execution_count": null,
     "metadata": {},
     "output_type": "execute_result"
    }
   ],
   "source": [
    "lines = \"\"\"1abc2\n",
    "pqr3stu8vwx\n",
    "a1b2c3d4e5f\n",
    "treb7uchet\"\"\".split(\"\\n\")\n",
    "\n",
    "lines"
   ]
  },
  {
   "cell_type": "code",
   "execution_count": null,
   "id": "450a91e4-ac43-40e3-ace6-1ece96f90c66",
   "metadata": {},
   "outputs": [
    {
     "data": {
      "text/plain": [
       "'1'"
      ]
     },
     "execution_count": null,
     "metadata": {},
     "output_type": "execute_result"
    }
   ],
   "source": [
    "x = lines[0]\n",
    "\n",
    "def get_first(x):\n",
    "    first = None\n",
    "    for o in x:\n",
    "        if o.isdigit():\n",
    "            first = o\n",
    "            break\n",
    "    return first\n",
    "\n",
    "get_first(x)"
   ]
  },
  {
   "cell_type": "code",
   "execution_count": null,
   "id": "c0c99874-ffb8-46d1-bf6b-cce2022ad463",
   "metadata": {},
   "outputs": [
    {
     "data": {
      "text/plain": [
       "'2'"
      ]
     },
     "execution_count": null,
     "metadata": {},
     "output_type": "execute_result"
    }
   ],
   "source": [
    "x = lines[0]\n",
    "\n",
    "def get_last(x):\n",
    "    last = None\n",
    "    for o in x:\n",
    "        if o.isdigit():\n",
    "            last = o\n",
    "    return last\n",
    "\n",
    "get_last(x)"
   ]
  },
  {
   "cell_type": "code",
   "execution_count": null,
   "id": "f0cd1336-92ab-4061-830d-a0a0165f37be",
   "metadata": {},
   "outputs": [
    {
     "data": {
      "text/markdown": [
       "```python\n",
       "def get_first_and_last(number):\n",
       "    # Convert number to string to easily access digits\n",
       "    num_str = str(number)\n",
       "    \n",
       "    # Get the first digit\n",
       "    first_digit = num_str[0]\n",
       "    \n",
       "    # Get the last digit\n",
       "    last_digit = num_str[-1]\n",
       "    \n",
       "    return first_digit, last_digit\n",
       "\n",
       "# Example usage\n",
       "# number = 12345\n",
       "# first, last = get_first_and_last(number)\n",
       "# print(\"First digit:\", first)\n",
       "# print(\"Last digit:\", last)\n",
       "```\n"
      ],
      "text/plain": [
       "<IPython.core.display.Markdown object>"
      ]
     },
     "execution_count": null,
     "metadata": {
      "text/markdown": {
       "jupyter_ai": {
        "model_id": "gpt-4o",
        "provider_id": "openai-chat"
       }
      }
     },
     "output_type": "execute_result"
    }
   ],
   "source": [
    "%%ai openai-chat:gpt-4o\n",
    "please combine the get_first and the get_last functions into one that get both the first and last digit in one go."
   ]
  },
  {
   "cell_type": "code",
   "execution_count": null,
   "id": "ed938650-a5bf-459f-bc85-e30ba0482a3a",
   "metadata": {},
   "outputs": [],
   "source": []
  }
 ],
 "metadata": {
  "kernelspec": {
   "display_name": "python3",
   "language": "python",
   "name": "python3"
  }
 },
 "nbformat": 4,
 "nbformat_minor": 5
}
