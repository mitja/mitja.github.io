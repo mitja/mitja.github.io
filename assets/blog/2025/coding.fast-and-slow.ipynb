{
 "cells": [
  {
   "cell_type": "markdown",
   "id": "023c5782-aa84-4cca-a2ad-a1b5950570fd",
   "metadata": {},
   "source": [
    "# AOC 2023 1a - Trebuchet?!\n",
    "\n",
    "Source: https://adventofcode.com/2023/day/1\n",
    "\n",
    "## Puzzle\n",
    "\n",
    "The newly-improved calibration document consists of lines of text; each line originally contained a specific calibration value that the Elves now need to recover. On each line, the calibration value can be found by **combining the first digit and the last digit (in that order) to form a single two-digit number**.\n",
    "\n",
    "For example:\n",
    "\n",
    "```\n",
    "1abc2\n",
    "pqr3stu8vwx\n",
    "a1b2c3d4e5f\n",
    "treb7uchet\n",
    "```\n",
    "\n",
    "In this example, the calibration values of these four lines are 12, 38, 15, and 77. Adding these together produces 142.\n",
    "\n",
    "Consider your entire calibration document. What is the sum of all of the calibration values?"
   ]
  },
  {
   "cell_type": "code",
   "execution_count": null,
   "id": "95cba3fa-60c6-431a-8ca2-838d1e7240c6",
   "metadata": {},
   "outputs": [
    {
     "data": {
      "text/plain": [
       "['1abc2', 'pqr3stu8vwx', 'a1b2c3d4e5f', 'treb7uchet']"
      ]
     },
     "execution_count": null,
     "metadata": {},
     "output_type": "execute_result"
    }
   ],
   "source": [
    "lines = \"\"\"1abc2\n",
    "pqr3stu8vwx\n",
    "a1b2c3d4e5f\n",
    "treb7uchet\"\"\".split(\"\\n\")\n",
    "\n",
    "lines"
   ]
  },
  {
   "cell_type": "code",
   "execution_count": null,
   "id": "450a91e4-ac43-40e3-ace6-1ece96f90c66",
   "metadata": {},
   "outputs": [
    {
     "data": {
      "text/plain": [
       "'1'"
      ]
     },
     "execution_count": null,
     "metadata": {},
     "output_type": "execute_result"
    }
   ],
   "source": [
    "x = lines[0]\n",
    "\n",
    "def get_first(x):\n",
    "    first = None\n",
    "    for o in x:\n",
    "        if o.isdigit():\n",
    "            first = o\n",
    "            break\n",
    "    return first\n",
    "\n",
    "get_first(x)"
   ]
  },
  {
   "cell_type": "code",
   "execution_count": null,
   "id": "c0c99874-ffb8-46d1-bf6b-cce2022ad463",
   "metadata": {},
   "outputs": [
    {
     "data": {
      "text/plain": [
       "'2'"
      ]
     },
     "execution_count": null,
     "metadata": {},
     "output_type": "execute_result"
    }
   ],
   "source": [
    "x = lines[0]\n",
    "\n",
    "def get_last(x):\n",
    "    last = None\n",
    "    for o in x:\n",
    "        if o.isdigit():\n",
    "            last = o\n",
    "    return last\n",
    "\n",
    "get_last(x)"
   ]
  },
  {
   "cell_type": "markdown",
   "id": "5b229fb7-b9c0-403f-80b6-6805911ff52c",
   "metadata": {},
   "source": [
    "Attached is a Jupyter notebook session. please combine the get_first and the get_last functions into one that get both the first and last digit in one go."
   ]
  },
  {
   "cell_type": "markdown",
   "id": "c1d6adc9-2313-4ddd-85a8-9b0d329f30d9",
   "metadata": {},
   "source": [
    "Looking at your code, I can see you have two separate functions that iterate through the string. Here's a combined function that gets both the first and last digits in a single pass:\n",
    "\n",
    "```python\n",
    "def get_first_and_last(x):\n",
    "    first = None\n",
    "    last = None\n",
    "    \n",
    "    for char in x:\n",
    "        if char.isdigit():\n",
    "            if first is None:  # Set first digit only once\n",
    "                first = char\n",
    "            last = char  # Always update last to get the final digit\n",
    "    \n",
    "    return first, last\n",
    "```\n",
    "\n",
    "This function:\n",
    "1. Iterates through the string only once\n",
    "2. Sets `first` only on the first digit encountered\n",
    "3. Continuously updates `last` for every digit found, so it ends up with the last digit\n",
    "4. Returns both values as a tuple\n",
    "\n",
    "You can use it like this:\n",
    "```python\n",
    "# Test with your examples\n",
    "for line in lines:\n",
    "    first, last = get_first_and_last(line)\n",
    "    calibration_value = int(first + last)\n",
    "    print(f\"{line}: first={first}, last={last}, value={calibration_value}\")\n",
    "```\n",
    "\n",
    "This would output:\n",
    "```\n",
    "1abc2: first=1, last=2, value=12\n",
    "pqr3stu8vwx: first=3, last=8, value=38\n",
    "a1b2c3d4e5f: first=1, last=5, value=15\n",
    "treb7uchet: first=7, last=7, value=77\n",
    "```\n",
    "\n",
    "To get the final sum as required by the puzzle:\n",
    "```python\n",
    "total = sum(int(get_first_and_last(line)[0] + get_first_and_last(line)[1]) \n",
    "            for line in lines)\n",
    "print(f\"Sum: {total}\")  # Should print 142\n",
    "```"
   ]
  },
  {
   "cell_type": "code",
   "execution_count": null,
   "id": "2cc60e19-ca6f-4c7f-b088-62596b1f518a",
   "metadata": {},
   "outputs": [
    {
     "data": {
      "text/plain": [
       "('1', '2')"
      ]
     },
     "execution_count": null,
     "metadata": {},
     "output_type": "execute_result"
    }
   ],
   "source": [
    "def get_first_and_last(x):\n",
    "    first = None\n",
    "    last = None\n",
    "    \n",
    "    for char in x:\n",
    "        if char.isdigit():\n",
    "            if first is None:  # Set first digit only once\n",
    "                first = char\n",
    "            last = char  # Always update last to get the final digit\n",
    "    \n",
    "    return first, last\n",
    "\n",
    "get_first_and_last(x)"
   ]
  },
  {
   "cell_type": "code",
   "execution_count": null,
   "id": "dedc8d68-a3f7-4247-bd0a-97b0542f90e0",
   "metadata": {},
   "outputs": [],
   "source": []
  }
 ],
 "metadata": {
  "kernelspec": {
   "display_name": "python3",
   "language": "python",
   "name": "python3"
  }
 },
 "nbformat": 4,
 "nbformat_minor": 5
}
