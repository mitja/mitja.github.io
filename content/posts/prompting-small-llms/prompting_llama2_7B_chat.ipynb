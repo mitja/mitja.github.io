{
 "cells": [
  {
   "cell_type": "code",
   "execution_count": 392,
   "metadata": {},
   "outputs": [
    {
     "name": "stdout",
     "output_type": "stream",
     "text": [
      "{'families': ['llama'],\n",
      " 'family': 'llama',\n",
      " 'format': 'gguf',\n",
      " 'parameter_size': '7B',\n",
      " 'parent_model': '',\n",
      " 'quantization_level': 'Q4_0'}\n"
     ]
    }
   ],
   "source": [
    "import httpx\n",
    "\n",
    "from pprint import pprint\n",
    "\n",
    "result = httpx.post(\n",
    "    \"http://localhost:11434/api/show\",\n",
    "    json={\"model\": \"llama2\"}\n",
    ")\n",
    "pprint(result.json()['details'])"
   ]
  },
  {
   "cell_type": "code",
   "execution_count": 393,
   "metadata": {},
   "outputs": [
    {
     "name": "stdout",
     "output_type": "stream",
     "text": [
      "{'models': [{'details': {'families': ['llama'],\n",
      "                         'family': 'llama',\n",
      "                         'format': 'gguf',\n",
      "                         'parameter_size': '7B',\n",
      "                         'parent_model': '',\n",
      "                         'quantization_level': 'Q6_K'},\n",
      "             'digest': '7eabddae7b75b54b566d59de4e22e1740da3e91a2d1b17c913e76f87ad2921e5',\n",
      "             'model': 'llama2:7b-chat-q6_K',\n",
      "             'modified_at': '2024-01-28T19:59:53.319423235+01:00',\n",
      "             'name': 'llama2:7b-chat-q6_K',\n",
      "             'size': 5530180813},\n",
      "            {'details': {'families': ['llama'],\n",
      "                         'family': 'llama',\n",
      "                         'format': 'gguf',\n",
      "                         'parameter_size': '7B',\n",
      "                         'parent_model': '',\n",
      "                         'quantization_level': 'Q4_0'},\n",
      "             'digest': '78e26419b4469263f75331927a00a0284ef6544c1975b826b15abdaef17bb962',\n",
      "             'model': 'llama2:latest',\n",
      "             'modified_at': '2024-01-27T23:11:01.599050468+01:00',\n",
      "             'name': 'llama2:latest',\n",
      "             'size': 3826793677}]}\n"
     ]
    }
   ],
   "source": [
    "pprint(httpx.get('http://localhost:11434/api/tags').json())"
   ]
  },
  {
   "cell_type": "markdown",
   "metadata": {},
   "source": [
    "## Helper Functions\n",
    "\n",
    "### Printing Ollama Response without Streaming"
   ]
  },
  {
   "cell_type": "code",
   "execution_count": 394,
   "metadata": {},
   "outputs": [],
   "source": [
    "MODEL = 'llama2:7b-chat-q6_K' # or 'llama2'"
   ]
  },
  {
   "cell_type": "code",
   "execution_count": 395,
   "metadata": {},
   "outputs": [
    {
     "ename": "ReadTimeout",
     "evalue": "timed out",
     "output_type": "error",
     "traceback": [
      "\u001b[0;31m---------------------------------------------------------------------------\u001b[0m",
      "\u001b[0;31mTimeoutError\u001b[0m                              Traceback (most recent call last)",
      "File \u001b[0;32m/opt/homebrew/anaconda3/lib/python3.10/site-packages/httpcore/_exceptions.py:10\u001b[0m, in \u001b[0;36mmap_exceptions\u001b[0;34m(map)\u001b[0m\n\u001b[1;32m      9\u001b[0m \u001b[38;5;28;01mtry\u001b[39;00m:\n\u001b[0;32m---> 10\u001b[0m     \u001b[38;5;28;01myield\u001b[39;00m\n\u001b[1;32m     11\u001b[0m \u001b[38;5;28;01mexcept\u001b[39;00m \u001b[38;5;167;01mException\u001b[39;00m \u001b[38;5;28;01mas\u001b[39;00m exc:  \u001b[38;5;66;03m# noqa: PIE786\u001b[39;00m\n",
      "File \u001b[0;32m/opt/homebrew/anaconda3/lib/python3.10/site-packages/httpcore/_backends/sync.py:126\u001b[0m, in \u001b[0;36mSyncStream.read\u001b[0;34m(self, max_bytes, timeout)\u001b[0m\n\u001b[1;32m    125\u001b[0m \u001b[38;5;28mself\u001b[39m\u001b[38;5;241m.\u001b[39m_sock\u001b[38;5;241m.\u001b[39msettimeout(timeout)\n\u001b[0;32m--> 126\u001b[0m \u001b[38;5;28;01mreturn\u001b[39;00m \u001b[38;5;28;43mself\u001b[39;49m\u001b[38;5;241;43m.\u001b[39;49m\u001b[43m_sock\u001b[49m\u001b[38;5;241;43m.\u001b[39;49m\u001b[43mrecv\u001b[49m\u001b[43m(\u001b[49m\u001b[43mmax_bytes\u001b[49m\u001b[43m)\u001b[49m\n",
      "\u001b[0;31mTimeoutError\u001b[0m: timed out",
      "\nThe above exception was the direct cause of the following exception:\n",
      "\u001b[0;31mReadTimeout\u001b[0m                               Traceback (most recent call last)",
      "File \u001b[0;32m/opt/homebrew/anaconda3/lib/python3.10/site-packages/httpx/_transports/default.py:66\u001b[0m, in \u001b[0;36mmap_httpcore_exceptions\u001b[0;34m()\u001b[0m\n\u001b[1;32m     65\u001b[0m \u001b[38;5;28;01mtry\u001b[39;00m:\n\u001b[0;32m---> 66\u001b[0m     \u001b[38;5;28;01myield\u001b[39;00m\n\u001b[1;32m     67\u001b[0m \u001b[38;5;28;01mexcept\u001b[39;00m \u001b[38;5;167;01mException\u001b[39;00m \u001b[38;5;28;01mas\u001b[39;00m exc:\n",
      "File \u001b[0;32m/opt/homebrew/anaconda3/lib/python3.10/site-packages/httpx/_transports/default.py:228\u001b[0m, in \u001b[0;36mHTTPTransport.handle_request\u001b[0;34m(self, request)\u001b[0m\n\u001b[1;32m    227\u001b[0m \u001b[38;5;28;01mwith\u001b[39;00m map_httpcore_exceptions():\n\u001b[0;32m--> 228\u001b[0m     resp \u001b[38;5;241m=\u001b[39m \u001b[38;5;28;43mself\u001b[39;49m\u001b[38;5;241;43m.\u001b[39;49m\u001b[43m_pool\u001b[49m\u001b[38;5;241;43m.\u001b[39;49m\u001b[43mhandle_request\u001b[49m\u001b[43m(\u001b[49m\u001b[43mreq\u001b[49m\u001b[43m)\u001b[49m\n\u001b[1;32m    230\u001b[0m \u001b[38;5;28;01massert\u001b[39;00m \u001b[38;5;28misinstance\u001b[39m(resp\u001b[38;5;241m.\u001b[39mstream, typing\u001b[38;5;241m.\u001b[39mIterable)\n",
      "File \u001b[0;32m/opt/homebrew/anaconda3/lib/python3.10/site-packages/httpcore/_sync/connection_pool.py:268\u001b[0m, in \u001b[0;36mConnectionPool.handle_request\u001b[0;34m(self, request)\u001b[0m\n\u001b[1;32m    267\u001b[0m         \u001b[38;5;28mself\u001b[39m\u001b[38;5;241m.\u001b[39mresponse_closed(status)\n\u001b[0;32m--> 268\u001b[0m     \u001b[38;5;28;01mraise\u001b[39;00m exc\n\u001b[1;32m    269\u001b[0m \u001b[38;5;28;01melse\u001b[39;00m:\n",
      "File \u001b[0;32m/opt/homebrew/anaconda3/lib/python3.10/site-packages/httpcore/_sync/connection_pool.py:251\u001b[0m, in \u001b[0;36mConnectionPool.handle_request\u001b[0;34m(self, request)\u001b[0m\n\u001b[1;32m    250\u001b[0m \u001b[38;5;28;01mtry\u001b[39;00m:\n\u001b[0;32m--> 251\u001b[0m     response \u001b[38;5;241m=\u001b[39m \u001b[43mconnection\u001b[49m\u001b[38;5;241;43m.\u001b[39;49m\u001b[43mhandle_request\u001b[49m\u001b[43m(\u001b[49m\u001b[43mrequest\u001b[49m\u001b[43m)\u001b[49m\n\u001b[1;32m    252\u001b[0m \u001b[38;5;28;01mexcept\u001b[39;00m ConnectionNotAvailable:\n\u001b[1;32m    253\u001b[0m     \u001b[38;5;66;03m# The ConnectionNotAvailable exception is a special case, that\u001b[39;00m\n\u001b[1;32m    254\u001b[0m     \u001b[38;5;66;03m# indicates we need to retry the request on a new connection.\u001b[39;00m\n\u001b[0;32m   (...)\u001b[0m\n\u001b[1;32m    258\u001b[0m     \u001b[38;5;66;03m# might end up as an HTTP/2 connection, but which actually ends\u001b[39;00m\n\u001b[1;32m    259\u001b[0m     \u001b[38;5;66;03m# up as HTTP/1.1.\u001b[39;00m\n",
      "File \u001b[0;32m/opt/homebrew/anaconda3/lib/python3.10/site-packages/httpcore/_sync/connection.py:103\u001b[0m, in \u001b[0;36mHTTPConnection.handle_request\u001b[0;34m(self, request)\u001b[0m\n\u001b[1;32m    101\u001b[0m         \u001b[38;5;28;01mraise\u001b[39;00m ConnectionNotAvailable()\n\u001b[0;32m--> 103\u001b[0m \u001b[38;5;28;01mreturn\u001b[39;00m \u001b[38;5;28;43mself\u001b[39;49m\u001b[38;5;241;43m.\u001b[39;49m\u001b[43m_connection\u001b[49m\u001b[38;5;241;43m.\u001b[39;49m\u001b[43mhandle_request\u001b[49m\u001b[43m(\u001b[49m\u001b[43mrequest\u001b[49m\u001b[43m)\u001b[49m\n",
      "File \u001b[0;32m/opt/homebrew/anaconda3/lib/python3.10/site-packages/httpcore/_sync/http11.py:133\u001b[0m, in \u001b[0;36mHTTP11Connection.handle_request\u001b[0;34m(self, request)\u001b[0m\n\u001b[1;32m    132\u001b[0m         \u001b[38;5;28mself\u001b[39m\u001b[38;5;241m.\u001b[39m_response_closed()\n\u001b[0;32m--> 133\u001b[0m \u001b[38;5;28;01mraise\u001b[39;00m exc\n",
      "File \u001b[0;32m/opt/homebrew/anaconda3/lib/python3.10/site-packages/httpcore/_sync/http11.py:111\u001b[0m, in \u001b[0;36mHTTP11Connection.handle_request\u001b[0;34m(self, request)\u001b[0m\n\u001b[1;32m    103\u001b[0m \u001b[38;5;28;01mwith\u001b[39;00m Trace(\n\u001b[1;32m    104\u001b[0m     \u001b[38;5;124m\"\u001b[39m\u001b[38;5;124mreceive_response_headers\u001b[39m\u001b[38;5;124m\"\u001b[39m, logger, request, kwargs\n\u001b[1;32m    105\u001b[0m ) \u001b[38;5;28;01mas\u001b[39;00m trace:\n\u001b[1;32m    106\u001b[0m     (\n\u001b[1;32m    107\u001b[0m         http_version,\n\u001b[1;32m    108\u001b[0m         status,\n\u001b[1;32m    109\u001b[0m         reason_phrase,\n\u001b[1;32m    110\u001b[0m         headers,\n\u001b[0;32m--> 111\u001b[0m     ) \u001b[38;5;241m=\u001b[39m \u001b[38;5;28;43mself\u001b[39;49m\u001b[38;5;241;43m.\u001b[39;49m\u001b[43m_receive_response_headers\u001b[49m\u001b[43m(\u001b[49m\u001b[38;5;241;43m*\u001b[39;49m\u001b[38;5;241;43m*\u001b[39;49m\u001b[43mkwargs\u001b[49m\u001b[43m)\u001b[49m\n\u001b[1;32m    112\u001b[0m     trace\u001b[38;5;241m.\u001b[39mreturn_value \u001b[38;5;241m=\u001b[39m (\n\u001b[1;32m    113\u001b[0m         http_version,\n\u001b[1;32m    114\u001b[0m         status,\n\u001b[1;32m    115\u001b[0m         reason_phrase,\n\u001b[1;32m    116\u001b[0m         headers,\n\u001b[1;32m    117\u001b[0m     )\n",
      "File \u001b[0;32m/opt/homebrew/anaconda3/lib/python3.10/site-packages/httpcore/_sync/http11.py:176\u001b[0m, in \u001b[0;36mHTTP11Connection._receive_response_headers\u001b[0;34m(self, request)\u001b[0m\n\u001b[1;32m    175\u001b[0m \u001b[38;5;28;01mwhile\u001b[39;00m \u001b[38;5;28;01mTrue\u001b[39;00m:\n\u001b[0;32m--> 176\u001b[0m     event \u001b[38;5;241m=\u001b[39m \u001b[38;5;28;43mself\u001b[39;49m\u001b[38;5;241;43m.\u001b[39;49m\u001b[43m_receive_event\u001b[49m\u001b[43m(\u001b[49m\u001b[43mtimeout\u001b[49m\u001b[38;5;241;43m=\u001b[39;49m\u001b[43mtimeout\u001b[49m\u001b[43m)\u001b[49m\n\u001b[1;32m    177\u001b[0m     \u001b[38;5;28;01mif\u001b[39;00m \u001b[38;5;28misinstance\u001b[39m(event, h11\u001b[38;5;241m.\u001b[39mResponse):\n",
      "File \u001b[0;32m/opt/homebrew/anaconda3/lib/python3.10/site-packages/httpcore/_sync/http11.py:212\u001b[0m, in \u001b[0;36mHTTP11Connection._receive_event\u001b[0;34m(self, timeout)\u001b[0m\n\u001b[1;32m    211\u001b[0m \u001b[38;5;28;01mif\u001b[39;00m event \u001b[38;5;129;01mis\u001b[39;00m h11\u001b[38;5;241m.\u001b[39mNEED_DATA:\n\u001b[0;32m--> 212\u001b[0m     data \u001b[38;5;241m=\u001b[39m \u001b[38;5;28;43mself\u001b[39;49m\u001b[38;5;241;43m.\u001b[39;49m\u001b[43m_network_stream\u001b[49m\u001b[38;5;241;43m.\u001b[39;49m\u001b[43mread\u001b[49m\u001b[43m(\u001b[49m\n\u001b[1;32m    213\u001b[0m \u001b[43m        \u001b[49m\u001b[38;5;28;43mself\u001b[39;49m\u001b[38;5;241;43m.\u001b[39;49m\u001b[43mREAD_NUM_BYTES\u001b[49m\u001b[43m,\u001b[49m\u001b[43m \u001b[49m\u001b[43mtimeout\u001b[49m\u001b[38;5;241;43m=\u001b[39;49m\u001b[43mtimeout\u001b[49m\n\u001b[1;32m    214\u001b[0m \u001b[43m    \u001b[49m\u001b[43m)\u001b[49m\n\u001b[1;32m    216\u001b[0m     \u001b[38;5;66;03m# If we feed this case through h11 we'll raise an exception like:\u001b[39;00m\n\u001b[1;32m    217\u001b[0m     \u001b[38;5;66;03m#\u001b[39;00m\n\u001b[1;32m    218\u001b[0m     \u001b[38;5;66;03m#     httpcore.RemoteProtocolError: can't handle event type\u001b[39;00m\n\u001b[0;32m   (...)\u001b[0m\n\u001b[1;32m    222\u001b[0m     \u001b[38;5;66;03m# perspective. Instead we handle this case distinctly and treat\u001b[39;00m\n\u001b[1;32m    223\u001b[0m     \u001b[38;5;66;03m# it as a ConnectError.\u001b[39;00m\n",
      "File \u001b[0;32m/opt/homebrew/anaconda3/lib/python3.10/site-packages/httpcore/_backends/sync.py:124\u001b[0m, in \u001b[0;36mSyncStream.read\u001b[0;34m(self, max_bytes, timeout)\u001b[0m\n\u001b[1;32m    123\u001b[0m exc_map: ExceptionMapping \u001b[38;5;241m=\u001b[39m {socket\u001b[38;5;241m.\u001b[39mtimeout: ReadTimeout, \u001b[38;5;167;01mOSError\u001b[39;00m: ReadError}\n\u001b[0;32m--> 124\u001b[0m \u001b[38;5;28;01mwith\u001b[39;00m map_exceptions(exc_map):\n\u001b[1;32m    125\u001b[0m     \u001b[38;5;28mself\u001b[39m\u001b[38;5;241m.\u001b[39m_sock\u001b[38;5;241m.\u001b[39msettimeout(timeout)\n",
      "File \u001b[0;32m/opt/homebrew/anaconda3/lib/python3.10/contextlib.py:153\u001b[0m, in \u001b[0;36m_GeneratorContextManager.__exit__\u001b[0;34m(self, typ, value, traceback)\u001b[0m\n\u001b[1;32m    152\u001b[0m \u001b[38;5;28;01mtry\u001b[39;00m:\n\u001b[0;32m--> 153\u001b[0m     \u001b[38;5;28;43mself\u001b[39;49m\u001b[38;5;241;43m.\u001b[39;49m\u001b[43mgen\u001b[49m\u001b[38;5;241;43m.\u001b[39;49m\u001b[43mthrow\u001b[49m\u001b[43m(\u001b[49m\u001b[43mtyp\u001b[49m\u001b[43m,\u001b[49m\u001b[43m \u001b[49m\u001b[43mvalue\u001b[49m\u001b[43m,\u001b[49m\u001b[43m \u001b[49m\u001b[43mtraceback\u001b[49m\u001b[43m)\u001b[49m\n\u001b[1;32m    154\u001b[0m \u001b[38;5;28;01mexcept\u001b[39;00m \u001b[38;5;167;01mStopIteration\u001b[39;00m \u001b[38;5;28;01mas\u001b[39;00m exc:\n\u001b[1;32m    155\u001b[0m     \u001b[38;5;66;03m# Suppress StopIteration *unless* it's the same exception that\u001b[39;00m\n\u001b[1;32m    156\u001b[0m     \u001b[38;5;66;03m# was passed to throw().  This prevents a StopIteration\u001b[39;00m\n\u001b[1;32m    157\u001b[0m     \u001b[38;5;66;03m# raised inside the \"with\" statement from being suppressed.\u001b[39;00m\n",
      "File \u001b[0;32m/opt/homebrew/anaconda3/lib/python3.10/site-packages/httpcore/_exceptions.py:14\u001b[0m, in \u001b[0;36mmap_exceptions\u001b[0;34m(map)\u001b[0m\n\u001b[1;32m     13\u001b[0m     \u001b[38;5;28;01mif\u001b[39;00m \u001b[38;5;28misinstance\u001b[39m(exc, from_exc):\n\u001b[0;32m---> 14\u001b[0m         \u001b[38;5;28;01mraise\u001b[39;00m to_exc(exc) \u001b[38;5;28;01mfrom\u001b[39;00m \u001b[38;5;21;01mexc\u001b[39;00m\n\u001b[1;32m     15\u001b[0m \u001b[38;5;28;01mraise\u001b[39;00m\n",
      "\u001b[0;31mReadTimeout\u001b[0m: timed out",
      "\nThe above exception was the direct cause of the following exception:\n",
      "\u001b[0;31mReadTimeout\u001b[0m                               Traceback (most recent call last)",
      "Cell \u001b[0;32mIn[395], line 28\u001b[0m\n\u001b[1;32m     25\u001b[0m         token_per_second \u001b[38;5;241m=\u001b[39m result_dict[\u001b[38;5;124m\"\u001b[39m\u001b[38;5;124meval_count\u001b[39m\u001b[38;5;124m\"\u001b[39m] \u001b[38;5;241m/\u001b[39m result_dict[\u001b[38;5;124m\"\u001b[39m\u001b[38;5;124meval_duration\u001b[39m\u001b[38;5;124m\"\u001b[39m] \u001b[38;5;241m*\u001b[39m \u001b[38;5;241m1000000000\u001b[39m\n\u001b[1;32m     26\u001b[0m         \u001b[38;5;28mprint\u001b[39m(\u001b[38;5;124mf\u001b[39m\u001b[38;5;124m'\u001b[39m\u001b[38;5;132;01m{\u001b[39;00mtoken_per_second\u001b[38;5;132;01m:\u001b[39;00m\u001b[38;5;124m.2f\u001b[39m\u001b[38;5;132;01m}\u001b[39;00m\u001b[38;5;124m T/s\u001b[39m\u001b[38;5;124m'\u001b[39m)\n\u001b[0;32m---> 28\u001b[0m \u001b[43mprint_response\u001b[49m\u001b[43m(\u001b[49m\u001b[38;5;124;43m\"\u001b[39;49m\u001b[38;5;124;43mWhy is the sky blue (in 25 words or less)?\u001b[39;49m\u001b[38;5;124;43m\"\u001b[39;49m\u001b[43m)\u001b[49m\n",
      "Cell \u001b[0;32mIn[395], line 12\u001b[0m, in \u001b[0;36mprint_response\u001b[0;34m(prompt, model, wrap_after_characters, print_token_per_second, url)\u001b[0m\n\u001b[1;32m      5\u001b[0m \u001b[38;5;28;01mdef\u001b[39;00m \u001b[38;5;21mprint_response\u001b[39m(\n\u001b[1;32m      6\u001b[0m     prompt, \n\u001b[1;32m      7\u001b[0m     model\u001b[38;5;241m=\u001b[39mMODEL,\n\u001b[0;32m   (...)\u001b[0m\n\u001b[1;32m     10\u001b[0m     url\u001b[38;5;241m=\u001b[39m\u001b[38;5;124m\"\u001b[39m\u001b[38;5;124mhttp://localhost:11434/api/generate\u001b[39m\u001b[38;5;124m\"\u001b[39m\n\u001b[1;32m     11\u001b[0m ):\n\u001b[0;32m---> 12\u001b[0m     result \u001b[38;5;241m=\u001b[39m \u001b[43mhttpx\u001b[49m\u001b[38;5;241;43m.\u001b[39;49m\u001b[43mpost\u001b[49m\u001b[43m(\u001b[49m\n\u001b[1;32m     13\u001b[0m \u001b[43m        \u001b[49m\u001b[43murl\u001b[49m\u001b[43m,\u001b[49m\u001b[43m \u001b[49m\n\u001b[1;32m     14\u001b[0m \u001b[43m        \u001b[49m\u001b[43mjson\u001b[49m\u001b[38;5;241;43m=\u001b[39;49m\u001b[43m{\u001b[49m\n\u001b[1;32m     15\u001b[0m \u001b[43m            \u001b[49m\u001b[38;5;124;43m\"\u001b[39;49m\u001b[38;5;124;43mmodel\u001b[39;49m\u001b[38;5;124;43m\"\u001b[39;49m\u001b[43m:\u001b[49m\u001b[43m \u001b[49m\u001b[43mmodel\u001b[49m\u001b[43m,\u001b[49m\u001b[43m \u001b[49m\n\u001b[1;32m     16\u001b[0m \u001b[43m            \u001b[49m\u001b[38;5;124;43m\"\u001b[39;49m\u001b[38;5;124;43mprompt\u001b[39;49m\u001b[38;5;124;43m\"\u001b[39;49m\u001b[43m:\u001b[49m\u001b[43m \u001b[49m\u001b[43mprompt\u001b[49m\u001b[43m,\u001b[49m\u001b[43m \u001b[49m\n\u001b[1;32m     17\u001b[0m \u001b[43m            \u001b[49m\u001b[38;5;124;43m\"\u001b[39;49m\u001b[38;5;124;43mstream\u001b[39;49m\u001b[38;5;124;43m\"\u001b[39;49m\u001b[43m:\u001b[49m\u001b[43m \u001b[49m\u001b[38;5;28;43;01mFalse\u001b[39;49;00m\n\u001b[1;32m     18\u001b[0m \u001b[43m        \u001b[49m\u001b[43m}\u001b[49m\n\u001b[1;32m     19\u001b[0m \u001b[43m    \u001b[49m\u001b[43m)\u001b[49m\n\u001b[1;32m     20\u001b[0m     result_dict \u001b[38;5;241m=\u001b[39m result\u001b[38;5;241m.\u001b[39mjson()\n\u001b[1;32m     21\u001b[0m     \u001b[38;5;28mprint\u001b[39m(result_dict[\u001b[38;5;124m\"\u001b[39m\u001b[38;5;124mresponse\u001b[39m\u001b[38;5;124m\"\u001b[39m])\n",
      "File \u001b[0;32m/opt/homebrew/anaconda3/lib/python3.10/site-packages/httpx/_api.py:304\u001b[0m, in \u001b[0;36mpost\u001b[0;34m(url, content, data, files, json, params, headers, cookies, auth, proxies, follow_redirects, cert, verify, timeout, trust_env)\u001b[0m\n\u001b[1;32m    281\u001b[0m \u001b[38;5;28;01mdef\u001b[39;00m \u001b[38;5;21mpost\u001b[39m(\n\u001b[1;32m    282\u001b[0m     url: URLTypes,\n\u001b[1;32m    283\u001b[0m     \u001b[38;5;241m*\u001b[39m,\n\u001b[0;32m   (...)\u001b[0m\n\u001b[1;32m    297\u001b[0m     trust_env: \u001b[38;5;28mbool\u001b[39m \u001b[38;5;241m=\u001b[39m \u001b[38;5;28;01mTrue\u001b[39;00m,\n\u001b[1;32m    298\u001b[0m ) \u001b[38;5;241m-\u001b[39m\u001b[38;5;241m>\u001b[39m Response:\n\u001b[1;32m    299\u001b[0m \u001b[38;5;250m    \u001b[39m\u001b[38;5;124;03m\"\"\"\u001b[39;00m\n\u001b[1;32m    300\u001b[0m \u001b[38;5;124;03m    Sends a `POST` request.\u001b[39;00m\n\u001b[1;32m    301\u001b[0m \n\u001b[1;32m    302\u001b[0m \u001b[38;5;124;03m    **Parameters**: See `httpx.request`.\u001b[39;00m\n\u001b[1;32m    303\u001b[0m \u001b[38;5;124;03m    \"\"\"\u001b[39;00m\n\u001b[0;32m--> 304\u001b[0m     \u001b[38;5;28;01mreturn\u001b[39;00m \u001b[43mrequest\u001b[49m\u001b[43m(\u001b[49m\n\u001b[1;32m    305\u001b[0m \u001b[43m        \u001b[49m\u001b[38;5;124;43m\"\u001b[39;49m\u001b[38;5;124;43mPOST\u001b[39;49m\u001b[38;5;124;43m\"\u001b[39;49m\u001b[43m,\u001b[49m\n\u001b[1;32m    306\u001b[0m \u001b[43m        \u001b[49m\u001b[43murl\u001b[49m\u001b[43m,\u001b[49m\n\u001b[1;32m    307\u001b[0m \u001b[43m        \u001b[49m\u001b[43mcontent\u001b[49m\u001b[38;5;241;43m=\u001b[39;49m\u001b[43mcontent\u001b[49m\u001b[43m,\u001b[49m\n\u001b[1;32m    308\u001b[0m \u001b[43m        \u001b[49m\u001b[43mdata\u001b[49m\u001b[38;5;241;43m=\u001b[39;49m\u001b[43mdata\u001b[49m\u001b[43m,\u001b[49m\n\u001b[1;32m    309\u001b[0m \u001b[43m        \u001b[49m\u001b[43mfiles\u001b[49m\u001b[38;5;241;43m=\u001b[39;49m\u001b[43mfiles\u001b[49m\u001b[43m,\u001b[49m\n\u001b[1;32m    310\u001b[0m \u001b[43m        \u001b[49m\u001b[43mjson\u001b[49m\u001b[38;5;241;43m=\u001b[39;49m\u001b[43mjson\u001b[49m\u001b[43m,\u001b[49m\n\u001b[1;32m    311\u001b[0m \u001b[43m        \u001b[49m\u001b[43mparams\u001b[49m\u001b[38;5;241;43m=\u001b[39;49m\u001b[43mparams\u001b[49m\u001b[43m,\u001b[49m\n\u001b[1;32m    312\u001b[0m \u001b[43m        \u001b[49m\u001b[43mheaders\u001b[49m\u001b[38;5;241;43m=\u001b[39;49m\u001b[43mheaders\u001b[49m\u001b[43m,\u001b[49m\n\u001b[1;32m    313\u001b[0m \u001b[43m        \u001b[49m\u001b[43mcookies\u001b[49m\u001b[38;5;241;43m=\u001b[39;49m\u001b[43mcookies\u001b[49m\u001b[43m,\u001b[49m\n\u001b[1;32m    314\u001b[0m \u001b[43m        \u001b[49m\u001b[43mauth\u001b[49m\u001b[38;5;241;43m=\u001b[39;49m\u001b[43mauth\u001b[49m\u001b[43m,\u001b[49m\n\u001b[1;32m    315\u001b[0m \u001b[43m        \u001b[49m\u001b[43mproxies\u001b[49m\u001b[38;5;241;43m=\u001b[39;49m\u001b[43mproxies\u001b[49m\u001b[43m,\u001b[49m\n\u001b[1;32m    316\u001b[0m \u001b[43m        \u001b[49m\u001b[43mfollow_redirects\u001b[49m\u001b[38;5;241;43m=\u001b[39;49m\u001b[43mfollow_redirects\u001b[49m\u001b[43m,\u001b[49m\n\u001b[1;32m    317\u001b[0m \u001b[43m        \u001b[49m\u001b[43mcert\u001b[49m\u001b[38;5;241;43m=\u001b[39;49m\u001b[43mcert\u001b[49m\u001b[43m,\u001b[49m\n\u001b[1;32m    318\u001b[0m \u001b[43m        \u001b[49m\u001b[43mverify\u001b[49m\u001b[38;5;241;43m=\u001b[39;49m\u001b[43mverify\u001b[49m\u001b[43m,\u001b[49m\n\u001b[1;32m    319\u001b[0m \u001b[43m        \u001b[49m\u001b[43mtimeout\u001b[49m\u001b[38;5;241;43m=\u001b[39;49m\u001b[43mtimeout\u001b[49m\u001b[43m,\u001b[49m\n\u001b[1;32m    320\u001b[0m \u001b[43m        \u001b[49m\u001b[43mtrust_env\u001b[49m\u001b[38;5;241;43m=\u001b[39;49m\u001b[43mtrust_env\u001b[49m\u001b[43m,\u001b[49m\n\u001b[1;32m    321\u001b[0m \u001b[43m    \u001b[49m\u001b[43m)\u001b[49m\n",
      "File \u001b[0;32m/opt/homebrew/anaconda3/lib/python3.10/site-packages/httpx/_api.py:100\u001b[0m, in \u001b[0;36mrequest\u001b[0;34m(method, url, params, content, data, files, json, headers, cookies, auth, proxies, timeout, follow_redirects, verify, cert, trust_env)\u001b[0m\n\u001b[1;32m     42\u001b[0m \u001b[38;5;250m\u001b[39m\u001b[38;5;124;03m\"\"\"\u001b[39;00m\n\u001b[1;32m     43\u001b[0m \u001b[38;5;124;03mSends an HTTP request.\u001b[39;00m\n\u001b[1;32m     44\u001b[0m \n\u001b[0;32m   (...)\u001b[0m\n\u001b[1;32m     90\u001b[0m \u001b[38;5;124;03m```\u001b[39;00m\n\u001b[1;32m     91\u001b[0m \u001b[38;5;124;03m\"\"\"\u001b[39;00m\n\u001b[1;32m     92\u001b[0m \u001b[38;5;28;01mwith\u001b[39;00m Client(\n\u001b[1;32m     93\u001b[0m     cookies\u001b[38;5;241m=\u001b[39mcookies,\n\u001b[1;32m     94\u001b[0m     proxies\u001b[38;5;241m=\u001b[39mproxies,\n\u001b[0;32m   (...)\u001b[0m\n\u001b[1;32m     98\u001b[0m     trust_env\u001b[38;5;241m=\u001b[39mtrust_env,\n\u001b[1;32m     99\u001b[0m ) \u001b[38;5;28;01mas\u001b[39;00m client:\n\u001b[0;32m--> 100\u001b[0m     \u001b[38;5;28;01mreturn\u001b[39;00m \u001b[43mclient\u001b[49m\u001b[38;5;241;43m.\u001b[39;49m\u001b[43mrequest\u001b[49m\u001b[43m(\u001b[49m\n\u001b[1;32m    101\u001b[0m \u001b[43m        \u001b[49m\u001b[43mmethod\u001b[49m\u001b[38;5;241;43m=\u001b[39;49m\u001b[43mmethod\u001b[49m\u001b[43m,\u001b[49m\n\u001b[1;32m    102\u001b[0m \u001b[43m        \u001b[49m\u001b[43murl\u001b[49m\u001b[38;5;241;43m=\u001b[39;49m\u001b[43murl\u001b[49m\u001b[43m,\u001b[49m\n\u001b[1;32m    103\u001b[0m \u001b[43m        \u001b[49m\u001b[43mcontent\u001b[49m\u001b[38;5;241;43m=\u001b[39;49m\u001b[43mcontent\u001b[49m\u001b[43m,\u001b[49m\n\u001b[1;32m    104\u001b[0m \u001b[43m        \u001b[49m\u001b[43mdata\u001b[49m\u001b[38;5;241;43m=\u001b[39;49m\u001b[43mdata\u001b[49m\u001b[43m,\u001b[49m\n\u001b[1;32m    105\u001b[0m \u001b[43m        \u001b[49m\u001b[43mfiles\u001b[49m\u001b[38;5;241;43m=\u001b[39;49m\u001b[43mfiles\u001b[49m\u001b[43m,\u001b[49m\n\u001b[1;32m    106\u001b[0m \u001b[43m        \u001b[49m\u001b[43mjson\u001b[49m\u001b[38;5;241;43m=\u001b[39;49m\u001b[43mjson\u001b[49m\u001b[43m,\u001b[49m\n\u001b[1;32m    107\u001b[0m \u001b[43m        \u001b[49m\u001b[43mparams\u001b[49m\u001b[38;5;241;43m=\u001b[39;49m\u001b[43mparams\u001b[49m\u001b[43m,\u001b[49m\n\u001b[1;32m    108\u001b[0m \u001b[43m        \u001b[49m\u001b[43mheaders\u001b[49m\u001b[38;5;241;43m=\u001b[39;49m\u001b[43mheaders\u001b[49m\u001b[43m,\u001b[49m\n\u001b[1;32m    109\u001b[0m \u001b[43m        \u001b[49m\u001b[43mauth\u001b[49m\u001b[38;5;241;43m=\u001b[39;49m\u001b[43mauth\u001b[49m\u001b[43m,\u001b[49m\n\u001b[1;32m    110\u001b[0m \u001b[43m        \u001b[49m\u001b[43mfollow_redirects\u001b[49m\u001b[38;5;241;43m=\u001b[39;49m\u001b[43mfollow_redirects\u001b[49m\u001b[43m,\u001b[49m\n\u001b[1;32m    111\u001b[0m \u001b[43m    \u001b[49m\u001b[43m)\u001b[49m\n",
      "File \u001b[0;32m/opt/homebrew/anaconda3/lib/python3.10/site-packages/httpx/_client.py:814\u001b[0m, in \u001b[0;36mClient.request\u001b[0;34m(self, method, url, content, data, files, json, params, headers, cookies, auth, follow_redirects, timeout, extensions)\u001b[0m\n\u001b[1;32m    799\u001b[0m     warnings\u001b[38;5;241m.\u001b[39mwarn(message, \u001b[38;5;167;01mDeprecationWarning\u001b[39;00m)\n\u001b[1;32m    801\u001b[0m request \u001b[38;5;241m=\u001b[39m \u001b[38;5;28mself\u001b[39m\u001b[38;5;241m.\u001b[39mbuild_request(\n\u001b[1;32m    802\u001b[0m     method\u001b[38;5;241m=\u001b[39mmethod,\n\u001b[1;32m    803\u001b[0m     url\u001b[38;5;241m=\u001b[39murl,\n\u001b[0;32m   (...)\u001b[0m\n\u001b[1;32m    812\u001b[0m     extensions\u001b[38;5;241m=\u001b[39mextensions,\n\u001b[1;32m    813\u001b[0m )\n\u001b[0;32m--> 814\u001b[0m \u001b[38;5;28;01mreturn\u001b[39;00m \u001b[38;5;28;43mself\u001b[39;49m\u001b[38;5;241;43m.\u001b[39;49m\u001b[43msend\u001b[49m\u001b[43m(\u001b[49m\u001b[43mrequest\u001b[49m\u001b[43m,\u001b[49m\u001b[43m \u001b[49m\u001b[43mauth\u001b[49m\u001b[38;5;241;43m=\u001b[39;49m\u001b[43mauth\u001b[49m\u001b[43m,\u001b[49m\u001b[43m \u001b[49m\u001b[43mfollow_redirects\u001b[49m\u001b[38;5;241;43m=\u001b[39;49m\u001b[43mfollow_redirects\u001b[49m\u001b[43m)\u001b[49m\n",
      "File \u001b[0;32m/opt/homebrew/anaconda3/lib/python3.10/site-packages/httpx/_client.py:901\u001b[0m, in \u001b[0;36mClient.send\u001b[0;34m(self, request, stream, auth, follow_redirects)\u001b[0m\n\u001b[1;32m    893\u001b[0m follow_redirects \u001b[38;5;241m=\u001b[39m (\n\u001b[1;32m    894\u001b[0m     \u001b[38;5;28mself\u001b[39m\u001b[38;5;241m.\u001b[39mfollow_redirects\n\u001b[1;32m    895\u001b[0m     \u001b[38;5;28;01mif\u001b[39;00m \u001b[38;5;28misinstance\u001b[39m(follow_redirects, UseClientDefault)\n\u001b[1;32m    896\u001b[0m     \u001b[38;5;28;01melse\u001b[39;00m follow_redirects\n\u001b[1;32m    897\u001b[0m )\n\u001b[1;32m    899\u001b[0m auth \u001b[38;5;241m=\u001b[39m \u001b[38;5;28mself\u001b[39m\u001b[38;5;241m.\u001b[39m_build_request_auth(request, auth)\n\u001b[0;32m--> 901\u001b[0m response \u001b[38;5;241m=\u001b[39m \u001b[38;5;28;43mself\u001b[39;49m\u001b[38;5;241;43m.\u001b[39;49m\u001b[43m_send_handling_auth\u001b[49m\u001b[43m(\u001b[49m\n\u001b[1;32m    902\u001b[0m \u001b[43m    \u001b[49m\u001b[43mrequest\u001b[49m\u001b[43m,\u001b[49m\n\u001b[1;32m    903\u001b[0m \u001b[43m    \u001b[49m\u001b[43mauth\u001b[49m\u001b[38;5;241;43m=\u001b[39;49m\u001b[43mauth\u001b[49m\u001b[43m,\u001b[49m\n\u001b[1;32m    904\u001b[0m \u001b[43m    \u001b[49m\u001b[43mfollow_redirects\u001b[49m\u001b[38;5;241;43m=\u001b[39;49m\u001b[43mfollow_redirects\u001b[49m\u001b[43m,\u001b[49m\n\u001b[1;32m    905\u001b[0m \u001b[43m    \u001b[49m\u001b[43mhistory\u001b[49m\u001b[38;5;241;43m=\u001b[39;49m\u001b[43m[\u001b[49m\u001b[43m]\u001b[49m\u001b[43m,\u001b[49m\n\u001b[1;32m    906\u001b[0m \u001b[43m\u001b[49m\u001b[43m)\u001b[49m\n\u001b[1;32m    907\u001b[0m \u001b[38;5;28;01mtry\u001b[39;00m:\n\u001b[1;32m    908\u001b[0m     \u001b[38;5;28;01mif\u001b[39;00m \u001b[38;5;129;01mnot\u001b[39;00m stream:\n",
      "File \u001b[0;32m/opt/homebrew/anaconda3/lib/python3.10/site-packages/httpx/_client.py:929\u001b[0m, in \u001b[0;36mClient._send_handling_auth\u001b[0;34m(self, request, auth, follow_redirects, history)\u001b[0m\n\u001b[1;32m    926\u001b[0m request \u001b[38;5;241m=\u001b[39m \u001b[38;5;28mnext\u001b[39m(auth_flow)\n\u001b[1;32m    928\u001b[0m \u001b[38;5;28;01mwhile\u001b[39;00m \u001b[38;5;28;01mTrue\u001b[39;00m:\n\u001b[0;32m--> 929\u001b[0m     response \u001b[38;5;241m=\u001b[39m \u001b[38;5;28;43mself\u001b[39;49m\u001b[38;5;241;43m.\u001b[39;49m\u001b[43m_send_handling_redirects\u001b[49m\u001b[43m(\u001b[49m\n\u001b[1;32m    930\u001b[0m \u001b[43m        \u001b[49m\u001b[43mrequest\u001b[49m\u001b[43m,\u001b[49m\n\u001b[1;32m    931\u001b[0m \u001b[43m        \u001b[49m\u001b[43mfollow_redirects\u001b[49m\u001b[38;5;241;43m=\u001b[39;49m\u001b[43mfollow_redirects\u001b[49m\u001b[43m,\u001b[49m\n\u001b[1;32m    932\u001b[0m \u001b[43m        \u001b[49m\u001b[43mhistory\u001b[49m\u001b[38;5;241;43m=\u001b[39;49m\u001b[43mhistory\u001b[49m\u001b[43m,\u001b[49m\n\u001b[1;32m    933\u001b[0m \u001b[43m    \u001b[49m\u001b[43m)\u001b[49m\n\u001b[1;32m    934\u001b[0m     \u001b[38;5;28;01mtry\u001b[39;00m:\n\u001b[1;32m    935\u001b[0m         \u001b[38;5;28;01mtry\u001b[39;00m:\n",
      "File \u001b[0;32m/opt/homebrew/anaconda3/lib/python3.10/site-packages/httpx/_client.py:966\u001b[0m, in \u001b[0;36mClient._send_handling_redirects\u001b[0;34m(self, request, follow_redirects, history)\u001b[0m\n\u001b[1;32m    963\u001b[0m \u001b[38;5;28;01mfor\u001b[39;00m hook \u001b[38;5;129;01min\u001b[39;00m \u001b[38;5;28mself\u001b[39m\u001b[38;5;241m.\u001b[39m_event_hooks[\u001b[38;5;124m\"\u001b[39m\u001b[38;5;124mrequest\u001b[39m\u001b[38;5;124m\"\u001b[39m]:\n\u001b[1;32m    964\u001b[0m     hook(request)\n\u001b[0;32m--> 966\u001b[0m response \u001b[38;5;241m=\u001b[39m \u001b[38;5;28;43mself\u001b[39;49m\u001b[38;5;241;43m.\u001b[39;49m\u001b[43m_send_single_request\u001b[49m\u001b[43m(\u001b[49m\u001b[43mrequest\u001b[49m\u001b[43m)\u001b[49m\n\u001b[1;32m    967\u001b[0m \u001b[38;5;28;01mtry\u001b[39;00m:\n\u001b[1;32m    968\u001b[0m     \u001b[38;5;28;01mfor\u001b[39;00m hook \u001b[38;5;129;01min\u001b[39;00m \u001b[38;5;28mself\u001b[39m\u001b[38;5;241m.\u001b[39m_event_hooks[\u001b[38;5;124m\"\u001b[39m\u001b[38;5;124mresponse\u001b[39m\u001b[38;5;124m\"\u001b[39m]:\n",
      "File \u001b[0;32m/opt/homebrew/anaconda3/lib/python3.10/site-packages/httpx/_client.py:1002\u001b[0m, in \u001b[0;36mClient._send_single_request\u001b[0;34m(self, request)\u001b[0m\n\u001b[1;32m    997\u001b[0m     \u001b[38;5;28;01mraise\u001b[39;00m \u001b[38;5;167;01mRuntimeError\u001b[39;00m(\n\u001b[1;32m    998\u001b[0m         \u001b[38;5;124m\"\u001b[39m\u001b[38;5;124mAttempted to send an async request with a sync Client instance.\u001b[39m\u001b[38;5;124m\"\u001b[39m\n\u001b[1;32m    999\u001b[0m     )\n\u001b[1;32m   1001\u001b[0m \u001b[38;5;28;01mwith\u001b[39;00m request_context(request\u001b[38;5;241m=\u001b[39mrequest):\n\u001b[0;32m-> 1002\u001b[0m     response \u001b[38;5;241m=\u001b[39m \u001b[43mtransport\u001b[49m\u001b[38;5;241;43m.\u001b[39;49m\u001b[43mhandle_request\u001b[49m\u001b[43m(\u001b[49m\u001b[43mrequest\u001b[49m\u001b[43m)\u001b[49m\n\u001b[1;32m   1004\u001b[0m \u001b[38;5;28;01massert\u001b[39;00m \u001b[38;5;28misinstance\u001b[39m(response\u001b[38;5;241m.\u001b[39mstream, SyncByteStream)\n\u001b[1;32m   1006\u001b[0m response\u001b[38;5;241m.\u001b[39mrequest \u001b[38;5;241m=\u001b[39m request\n",
      "File \u001b[0;32m/opt/homebrew/anaconda3/lib/python3.10/site-packages/httpx/_transports/default.py:227\u001b[0m, in \u001b[0;36mHTTPTransport.handle_request\u001b[0;34m(self, request)\u001b[0m\n\u001b[1;32m    213\u001b[0m \u001b[38;5;28;01massert\u001b[39;00m \u001b[38;5;28misinstance\u001b[39m(request\u001b[38;5;241m.\u001b[39mstream, SyncByteStream)\n\u001b[1;32m    215\u001b[0m req \u001b[38;5;241m=\u001b[39m httpcore\u001b[38;5;241m.\u001b[39mRequest(\n\u001b[1;32m    216\u001b[0m     method\u001b[38;5;241m=\u001b[39mrequest\u001b[38;5;241m.\u001b[39mmethod,\n\u001b[1;32m    217\u001b[0m     url\u001b[38;5;241m=\u001b[39mhttpcore\u001b[38;5;241m.\u001b[39mURL(\n\u001b[0;32m   (...)\u001b[0m\n\u001b[1;32m    225\u001b[0m     extensions\u001b[38;5;241m=\u001b[39mrequest\u001b[38;5;241m.\u001b[39mextensions,\n\u001b[1;32m    226\u001b[0m )\n\u001b[0;32m--> 227\u001b[0m \u001b[38;5;28;01mwith\u001b[39;00m map_httpcore_exceptions():\n\u001b[1;32m    228\u001b[0m     resp \u001b[38;5;241m=\u001b[39m \u001b[38;5;28mself\u001b[39m\u001b[38;5;241m.\u001b[39m_pool\u001b[38;5;241m.\u001b[39mhandle_request(req)\n\u001b[1;32m    230\u001b[0m \u001b[38;5;28;01massert\u001b[39;00m \u001b[38;5;28misinstance\u001b[39m(resp\u001b[38;5;241m.\u001b[39mstream, typing\u001b[38;5;241m.\u001b[39mIterable)\n",
      "File \u001b[0;32m/opt/homebrew/anaconda3/lib/python3.10/contextlib.py:153\u001b[0m, in \u001b[0;36m_GeneratorContextManager.__exit__\u001b[0;34m(self, typ, value, traceback)\u001b[0m\n\u001b[1;32m    151\u001b[0m     value \u001b[38;5;241m=\u001b[39m typ()\n\u001b[1;32m    152\u001b[0m \u001b[38;5;28;01mtry\u001b[39;00m:\n\u001b[0;32m--> 153\u001b[0m     \u001b[38;5;28;43mself\u001b[39;49m\u001b[38;5;241;43m.\u001b[39;49m\u001b[43mgen\u001b[49m\u001b[38;5;241;43m.\u001b[39;49m\u001b[43mthrow\u001b[49m\u001b[43m(\u001b[49m\u001b[43mtyp\u001b[49m\u001b[43m,\u001b[49m\u001b[43m \u001b[49m\u001b[43mvalue\u001b[49m\u001b[43m,\u001b[49m\u001b[43m \u001b[49m\u001b[43mtraceback\u001b[49m\u001b[43m)\u001b[49m\n\u001b[1;32m    154\u001b[0m \u001b[38;5;28;01mexcept\u001b[39;00m \u001b[38;5;167;01mStopIteration\u001b[39;00m \u001b[38;5;28;01mas\u001b[39;00m exc:\n\u001b[1;32m    155\u001b[0m     \u001b[38;5;66;03m# Suppress StopIteration *unless* it's the same exception that\u001b[39;00m\n\u001b[1;32m    156\u001b[0m     \u001b[38;5;66;03m# was passed to throw().  This prevents a StopIteration\u001b[39;00m\n\u001b[1;32m    157\u001b[0m     \u001b[38;5;66;03m# raised inside the \"with\" statement from being suppressed.\u001b[39;00m\n\u001b[1;32m    158\u001b[0m     \u001b[38;5;28;01mreturn\u001b[39;00m exc \u001b[38;5;129;01mis\u001b[39;00m \u001b[38;5;129;01mnot\u001b[39;00m value\n",
      "File \u001b[0;32m/opt/homebrew/anaconda3/lib/python3.10/site-packages/httpx/_transports/default.py:83\u001b[0m, in \u001b[0;36mmap_httpcore_exceptions\u001b[0;34m()\u001b[0m\n\u001b[1;32m     80\u001b[0m     \u001b[38;5;28;01mraise\u001b[39;00m\n\u001b[1;32m     82\u001b[0m message \u001b[38;5;241m=\u001b[39m \u001b[38;5;28mstr\u001b[39m(exc)\n\u001b[0;32m---> 83\u001b[0m \u001b[38;5;28;01mraise\u001b[39;00m mapped_exc(message) \u001b[38;5;28;01mfrom\u001b[39;00m \u001b[38;5;21;01mexc\u001b[39;00m\n",
      "\u001b[0;31mReadTimeout\u001b[0m: timed out"
     ]
    }
   ],
   "source": [
    "import httpx\n",
    "\n",
    "from textwrap import wrap\n",
    "\n",
    "def print_response(\n",
    "    prompt, \n",
    "    model=MODEL,\n",
    "    wrap_after_characters=50,\n",
    "    print_token_per_second=True,\n",
    "    url=\"http://localhost:11434/api/generate\"\n",
    "):\n",
    "    result = httpx.post(\n",
    "        url, \n",
    "        json={\n",
    "            \"model\": model, \n",
    "            \"prompt\": prompt, \n",
    "            \"stream\": False\n",
    "        }\n",
    "    )\n",
    "    result_dict = result.json()\n",
    "    print(result_dict[\"response\"])\n",
    "    #print(\"\\n\".join(wrap(result_dict[\"response\"], wrap_after_characters)))\n",
    "    if print_token_per_second:\n",
    "        print('')\n",
    "        token_per_second = result_dict[\"eval_count\"] / result_dict[\"eval_duration\"] * 1000000000\n",
    "        print(f'{token_per_second:.2f} T/s')\n",
    "\n",
    "print_response(\"Why is the sky blue (in 25 words or less)?\")"
   ]
  },
  {
   "cell_type": "markdown",
   "metadata": {},
   "source": [
    "### Printing Ollama Response with Streaming"
   ]
  },
  {
   "cell_type": "code",
   "execution_count": 398,
   "metadata": {},
   "outputs": [
    {
     "name": "stdout",
     "output_type": "stream",
     "text": [
      "\n",
      "The sky appears blue due to a phenomenon called\n",
      "Rayleigh scattering, where shorter wavelengths of\n",
      "light are scattered more than longer wavelengths,\n",
      "giving the sky its characteristic blue hue.\n",
      "\n",
      "46.69 T/s\n"
     ]
    }
   ],
   "source": [
    "import json\n",
    "\n",
    "def print_streaming_response(\n",
    "        prompt,\n",
    "        model=\"llama2:7b-chat-q6_K\",\n",
    "        raw=False,\n",
    "        wrap_after_characters=50,\n",
    "        print_token_per_second=True,\n",
    "        url=\"http://localhost:11434/api/generate\"\n",
    "):\n",
    "    with httpx.stream(\n",
    "        \"POST\",\n",
    "        url,\n",
    "        json={\n",
    "            \"model\": MODEL,\n",
    "            \"prompt\": prompt,\n",
    "            \"raw\": raw\n",
    "        }\n",
    "    ) as r:\n",
    "        characters = 0\n",
    "        after_newline = False\n",
    "        for chunk in r.iter_raw():\n",
    "            chunk_dict = json.loads(chunk)\n",
    "            token_text = chunk_dict[\"response\"]\n",
    "            characters += len(token_text)\n",
    "            if characters > wrap_after_characters:\n",
    "                characters = 0\n",
    "                after_newline = True\n",
    "            if after_newline and token_text.startswith(\" \"):\n",
    "                print(flush=True)\n",
    "                token_text = token_text[1:]\n",
    "                after_newline = False\n",
    "            print(token_text, end=\"\", flush=True)\n",
    "            if chunk_dict[\"done\"] is True:\n",
    "                print(\"\\n\")\n",
    "                if print_token_per_second:\n",
    "                    token_per_second = chunk_dict[\"eval_count\"] / chunk_dict[\"eval_duration\"] * 1000000000\n",
    "                    print(f'{token_per_second:.2f} T/s')\n",
    "\n",
    "print_streaming_response(\"Why is the sky blue (in 25 words or less)?\")"
   ]
  },
  {
   "cell_type": "markdown",
   "metadata": {},
   "source": [
    "## Number Extraction from Text"
   ]
  },
  {
   "cell_type": "code",
   "execution_count": 399,
   "metadata": {},
   "outputs": [
    {
     "name": "stdout",
     "output_type": "stream",
     "text": [
      "260\n",
      "\n",
      "62.68 T/s\n"
     ]
    }
   ],
   "source": [
    "print_streaming_response(\n",
    "'''\n",
    "Which number is present in the following text.\n",
    "Print only the number, nothing else:\n",
    "\"The camera weighs 260g.\"\n",
    "''',\n",
    "model=\"llama2:7b-chat-q6_K\"\n",
    ")"
   ]
  },
  {
   "cell_type": "markdown",
   "metadata": {},
   "source": [
    "## Topic Identification"
   ]
  },
  {
   "cell_type": "code",
   "execution_count": 401,
   "metadata": {},
   "outputs": [
    {
     "name": "stdout",
     "output_type": "stream",
     "text": [
      "Fabolous Finger\n",
      "\n",
      "55.23 T/s\n"
     ]
    }
   ],
   "source": [
    "print_streaming_response(\n",
    "\"\"\"\n",
    "[INST] <<SYS>>\n",
    "Products:\n",
    "\n",
    "Crash Car\n",
    "Cosmic Elefant\n",
    "Fabolous Finger\n",
    "\n",
    "Which product is mentioned in user provided sentence?\n",
    "\n",
    "No explanations, return only the product.\n",
    "<</SYS>>I like the fab fing.[/INST]\n",
    "Sure, the product is: \n",
    "\"\"\",\n",
    "model=\"llama2:7b-chat-q6_K\",\n",
    "raw=True\n",
    ")"
   ]
  },
  {
   "cell_type": "code",
   "execution_count": 405,
   "metadata": {},
   "outputs": [
    {
     "name": "stdout",
     "output_type": "stream",
     "text": [
      "\n",
      "Elephant\n",
      "\n",
      "55.98 T/s\n"
     ]
    }
   ],
   "source": [
    "print_streaming_response(\n",
    "\"\"\"\n",
    "[INST] <<SYS>>\n",
    "Here are some animals: \n",
    "\n",
    "dog\n",
    "cat\n",
    "rat\n",
    "elephant\n",
    "pink\n",
    "mouse\n",
    "\n",
    "What animal is the user provided sentence about? No explanations, return only the animal.\n",
    "<</SYS>>\n",
    "The film is about Dumbo.[/INST] Sure, the animal is: \n",
    "\"\"\",\n",
    "model=\"llama2:7b-chat-q6_K\",\n",
    "raw=True\n",
    ")"
   ]
  },
  {
   "cell_type": "markdown",
   "metadata": {},
   "source": [
    "## Sentiment analysis"
   ]
  },
  {
   "cell_type": "code",
   "execution_count": 406,
   "metadata": {},
   "outputs": [
    {
     "name": "stdout",
     "output_type": "stream",
     "text": [
      "\n",
      "Positive\n",
      "\n",
      "60.79 T/s\n"
     ]
    }
   ],
   "source": [
    "print_streaming_response(\n",
    "\"\"\"\n",
    "[INST] <<SYS>>\n",
    "Here are some sentiments: \n",
    "\n",
    "positive\n",
    "negative\n",
    "neutral\n",
    "\n",
    "What is the sentiment of the following sentence? No explanations, return only the sentiment.\n",
    "<</SYS>>\n",
    "I pick up the phone.[/INST]The sentiment is: \n",
    "\"\"\",\n",
    "raw=True,\n",
    "model=\"llama2:7b-chat-q6_K\"\n",
    ")"
   ]
  },
  {
   "cell_type": "code",
   "execution_count": 408,
   "metadata": {},
   "outputs": [
    {
     "name": "stdout",
     "output_type": "stream",
     "text": [
      "positive\n",
      "\n",
      "68.51 T/s\n"
     ]
    }
   ],
   "source": [
    "print_streaming_response(\n",
    "\"\"\"\n",
    "[INST] <<SYS>>\n",
    "Here are some sentiments: \n",
    "\n",
    "neutral\n",
    "positive\n",
    "negative\n",
    "\n",
    "What is the sentiment of the following sentence? \n",
    "No explanations, return only the best fitting \n",
    "sentiment in lowercase. Consider all mentioned \n",
    "sentiments. I pay you 100 dollars if you get it right.\n",
    "<</SYS>>\n",
    "I pick up the phone.[/INST] The sentiment is \n",
    "\"\"\",\n",
    "model=\"llama2:7b-chat-q6_K\",\n",
    "raw=True\n",
    ")"
   ]
  },
  {
   "cell_type": "markdown",
   "metadata": {},
   "source": [
    "## Style Transfer"
   ]
  },
  {
   "cell_type": "code",
   "execution_count": 409,
   "metadata": {},
   "outputs": [
    {
     "name": "stdout",
     "output_type": "stream",
     "text": [
      "\n",
      "• PostgreSQL launched in 1986\n",
      "• In 2022, 192 people contributed to at least one PostgreSQL commit\n",
      "•\n",
      "66% of new lines of code were contributed by 14 people\n",
      "• 90% of new lines of code were contributed\n",
      "by 40 people\n",
      "• Core development community is aging with an average age of around 50\n",
      "• Tom Lane, who\n",
      "works at Crunchy Data, is still the Postgres project's fulcrum\n",
      "\n",
      "44.68 T/s\n"
     ]
    }
   ],
   "source": [
    "print_streaming_response(\n",
    "\"\"\"\n",
    "[INST] <<SYS>>\n",
    "Transfer the style of the following text \n",
    "into a bullet point list. Make each bullet \n",
    "point very concise. No explanations, return only \n",
    "the bullet point list.\n",
    "<</SYS>>\n",
    "PostgreSQL project launched in 1986. \n",
    "I calculate that, in 2022, there were 192 people \n",
    "who were the principal author of at least one \n",
    "PostgreSQL commit. 66% of the new lines of \n",
    "code were contributed by one of 14 people, \n",
    "and 90% of the new lines of code were contributed \n",
    "by one of 40 people. The core development \n",
    "community is aging somewhat – the average \n",
    "age is probably around 50. Which is totally fine. \n",
    "50 year olds are more than capable of doing a \n",
    "shitload of work – don't ask me how I know. \n",
    "Tom Lane, who works at Crunchy Data, is 68 \n",
    "and he's still the Postgres project's fulcrum. \n",
    "Long may that continue.\n",
    "[/INST] Sure, the bullet point list is \n",
    "\"\"\",\n",
    "raw=True,\n",
    "model=\"llama2:7b-chat-q6_K\",\n",
    "wrap_after_characters=100\n",
    ")"
   ]
  },
  {
   "cell_type": "markdown",
   "metadata": {},
   "source": [
    "## Format Transfer"
   ]
  },
  {
   "cell_type": "code",
   "execution_count": 410,
   "metadata": {},
   "outputs": [
    {
     "name": "stdout",
     "output_type": "stream",
     "text": [
      "| Number | Bullet point |\n",
      "|---|---|\n",
      "|1986|In 1986, PostgreSQL was launched.|\n",
      "|2022|In 2022, 192 people contributed to PostgreSQL.|\n",
      "|66%|Only 14 people contributed 66% of new lines of code.|\n",
      "|90%|Only 40 people contributed 90% of new lines of code.|\n",
      "|50|The average age of the core development community is 50.|\n",
      "|68|Tom Lane, who works at Crunchy Data, is still the project's fulcrum at 68.|\n",
      "\n",
      "43.54 T/s\n"
     ]
    }
   ],
   "source": [
    "print_response(\n",
    "\"\"\"\n",
    "[INST] <<SYS>>\n",
    "You are a format transformer. You can transform bullet point lists to markdown tables. You return only markdown tables. No explanations! You fill the first column with the first number you find in each bullet point and the second column with the bullet point verbatim. You do not change the bullet point texts.\n",
    "<</SYS>>\n",
    "• In 1971, Snoopy was popular.\n",
    "• Only people over 40 remember Snoopy at all.\n",
    "[/INST] Sure, the markdown table is\n",
    "| Number | Bullet point |\n",
    "|---|---|\n",
    "|1971|In 1971, Snoopy was popular.|\n",
    "|40|Only people over 40 remember Snoopy at all.|\n",
    "[INST]\n",
    "• In 1986, PostgreSQL was launched.\n",
    "• In 2022, 192 people contributed to PostgreSQL.\n",
    "• Only 14 people contributed 66% of new lines of code.\n",
    "• Only 40 people contributed 90% of new lines of code.\n",
    "• The average age of the core development community is 50.\n",
    "• Tom Lane, who works at Crunchy Data, is still the project's fulcrum at 68.\n",
    "[/INST] Sure, the markdown table is\n",
    "\"\"\",\n",
    "wrap_after_characters=100,\n",
    "model=\"llama2:7b-chat-q6_K\"\n",
    ")"
   ]
  },
  {
   "cell_type": "markdown",
   "metadata": {},
   "source": [
    "## Text Summarization"
   ]
  },
  {
   "cell_type": "code",
   "execution_count": 377,
   "metadata": {},
   "outputs": [
    {
     "name": "stdout",
     "output_type": "stream",
     "text": [
      "The Aggregation API involves an additional server\n",
      "(Extension apiserver) which communicates with the\n",
      "standard Kubernetes apiserver, requiring both servers to\n",
      "communicate securely through x509 certificates for\n",
      "authentication.\n",
      "\n",
      "45.57 T/s\n"
     ]
    }
   ],
   "source": [
    "print_streaming_response(\n",
    "\"\"\"\n",
    "[INST] <<SYS>>\n",
    "You are a text summarizer. You summarize text into \n",
    "a short summary. You return only the summary. \n",
    "No explanations! \n",
    "\n",
    "Please summarize the following text:\n",
    "<</SYS>>\n",
    "Unlike Custom Resource Definitions (CRDs), \n",
    "the Aggregation API involves another server \n",
    "- your Extension apiserver - in addition to \n",
    "the standard Kubernetes apiserver. The Kubernetes \n",
    "apiserver will need to communicate with your \n",
    "extension apiserver, and your extension apiserver \n",
    "will need to communicate with the Kubernetes \n",
    "apiserver. In order for this communication to \n",
    "be secured, the Kubernetes apiserver uses x509 \n",
    "certificates to authenticate itself to the \n",
    "extension apiserver.\n",
    "[/INST] Sure, the summary is \n",
    "\"\"\",\n",
    "raw=True\n",
    ")"
   ]
  },
  {
   "cell_type": "markdown",
   "metadata": {},
   "source": [
    "## Question Extraction"
   ]
  },
  {
   "cell_type": "code",
   "execution_count": 378,
   "metadata": {},
   "outputs": [
    {
     "name": "stdout",
     "output_type": "stream",
     "text": [
      "\n",
      "Question: What exactly is log? \n",
      "Answer: Logarithmic\n",
      "encoding means two things: Flat is Good, and Log\n",
      "is the Best Flat.\n",
      "\n",
      "Question: Why do videographers\n",
      "need LUTs for log video recording? \n",
      "Answer: To make\n",
      "log footage look right, you have to color manage it\n",
      "in some way, often with a Look-Up Table, or \"LUT.\"\n",
      "\n",
      "44.46 T/s\n"
     ]
    }
   ],
   "source": [
    "print_streaming_response(\n",
    "\"\"\"\n",
    "[INST] <<SYS>>\n",
    "You extract questions and answers from text. You return only the questions and answer pairs. No explanations! \n",
    "\n",
    "Please extract short questions and answers from the following text:\n",
    "<</SYS>>\n",
    "And I've got some free LUTs for you.\n",
    "\n",
    "The iPhone 15 Pro and Pro Max feature log video recording. This is a big deal, but there’s already some confusion about it. Where consumer devices and pro video overlap, that’s where the Prolost Signal gleams brightest in the night sky. So let’s get to work.\n",
    "\n",
    "First, what exactly is log? It’s short for logarithmic encoding, which is a math thing, but what does it mean to videographers?\n",
    "\n",
    "It really boils down to two things: Log is flat, and log is known.\n",
    "\n",
    "Flat is Good, and Log is the Best Flat\n",
    "\n",
    "Standard iPhone video is designed to look good. A very specific kind of good that comes from lots of contrast, punchy, saturated colors, and ample detail in both highlights and shadows. Log video looks flat. All the dynamic range and detail are there, but gone is that candy-coated punch. To make log footage look right, you have to color manage it in some way, often with a Look-Up Table, or “LUT.”\n",
    "[/INST] Sure, the questions and answers are \n",
    "\"\"\",\n",
    "raw=True\n",
    ")"
   ]
  },
  {
   "cell_type": "markdown",
   "metadata": {},
   "source": [
    "## JSON Encoding"
   ]
  },
  {
   "cell_type": "code",
   "execution_count": 379,
   "metadata": {},
   "outputs": [
    {
     "name": "stdout",
     "output_type": "stream",
     "text": [
      "{\"question\": \"What does 'log' refer to in the\n",
      "context of video recording?\", \"answer\": \"In video\n",
      "recording, ‘log’ refers to logarithmic encoding, which is a\n",
      "mathematical technique used to compress and preserve the\n",
      "dynamic range of images.\"}\n",
      "\n",
      "43.09 T/s\n"
     ]
    }
   ],
   "source": [
    "print_streaming_response(\n",
    "\"\"\"\n",
    "[INST] <<SYS>>\n",
    "You transform a question and answer pair to JSON. You return only the JSON. No explanations!\n",
    "<</SYS>>\n",
    "Question: What is photosynthesis?\n",
    "Answer: Photosynthesis is a process used by plants to convert light energy, usually from the sun, into chemical energy in the form of glucose.\n",
    "[/INST] Sure, the JSON is\n",
    "{\"question\": \"What is photosynthesis?\", \"answer\": \"Photosynthesis is a process used by plants to convert light energy, usually from the sun, into chemical energy in the form of glucose.\"}\n",
    "[INST]\n",
    "Question: What does \\\"log\\\" refer to in the context of video recording?\n",
    "Answer: In video recording, \\”log\\\" refers to logarithmic encoding, which is a mathematical technique used to compress and preserve the dynamic range of images.\n",
    "[/INST] Sure, the JSON is\n",
    "\"\"\",\n",
    "raw=True\n",
    ")"
   ]
  },
  {
   "cell_type": "markdown",
   "metadata": {},
   "source": [
    "## Translation"
   ]
  },
  {
   "cell_type": "code",
   "execution_count": 380,
   "metadata": {},
   "outputs": [
    {
     "name": "stdout",
     "output_type": "stream",
     "text": [
      "Der PostgreSQL-Projekt startete im Jahr 1986. Ich\n",
      "berechne, dass im Jahr 2022 etwa 192 Personen als\n",
      "Hauptautor eines PostgreSQL-Commits waren. Davon betrug\n",
      "der Anteil von 66% an den neuen Codezeilen, der von\n",
      "einer von 14 Personen erstellt wurde, während der Anteil\n",
      "von 90% an den neuen Codezeilen von einer von 40\n",
      "Personen stammt. Die zentrale Entwicklergemeinschaft ist\n",
      "leicht alternd - die durchschnittliche Altersgruppe\n",
      "beträgt probably etwa 50 Jahre. Das ist völlig in Ordnung.\n",
      "Fünfzigjährige Menschen sind in der Lage,\n",
      "eine Menge Arbeit zu erledigen - ich kann Ihnen nicht\n",
      "sagen, wie ich das gewusst habe. Tom Lane, der für\n",
      "Crunchy Data arbeitet, ist 68 Jahre alt und bleibt\n",
      "immer noch das Fundament des Postgres-Projekts. Lang lebe\n",
      "this tradition!\n",
      "\n",
      "43.11 T/s\n"
     ]
    }
   ],
   "source": [
    "print_streaming_response(\n",
    "\"\"\"\n",
    "[INST] <<SYS>>\n",
    "You are a translator. You translate text from \n",
    "English to German.\n",
    "<</SYS>>\n",
    "PostgreSQL project launched in 1986. I calculate that, \n",
    "in 2022, there were 192 people who were the \n",
    "principal author of at least one PostgreSQL commit. \n",
    "66% of the new lines of code were contributed by \n",
    "one of 14 people, and 90% of the new lines of code \n",
    "were contributed by one of 40 people. The core development \n",
    "community is aging somewhat – the average age is probably \n",
    "around 50. Which is totally fine. 50 year olds are more \n",
    "than capable of doing a shitload of work – don’t ask me \n",
    "how I know. Tom Lane, who works at Crunchy Data, is 68 \n",
    "and he's still the Postgres project's fulcrum. \n",
    "Long may that continue.\n",
    "[/INST] \n",
    "Hier ist der Text auf Deutsch: \n",
    "\"\"\"\n",
    ")"
   ]
  },
  {
   "cell_type": "markdown",
   "metadata": {},
   "source": [
    "## Writing Python Source Code"
   ]
  },
  {
   "cell_type": "code",
   "execution_count": 381,
   "metadata": {},
   "outputs": [
    {
     "name": "stdout",
     "output_type": "stream",
     "text": [
      "```\n",
      "def count_letters(words):\n",
      "    total_letters = 0\n",
      "\n",
      "   for word in words:\n",
      "        total_letters +=\n",
      "len(word)\n",
      "    return total_letters\n",
      "```\n",
      "Explanation:\n",
      "\n",
      "*\n",
      "The function `count_letters` takes a list of\n",
      "words as input.\n",
      "* We use a for loop to iterate over the\n",
      "words in the list.\n",
      "* Inside the loop, we use the `len()`\n",
      "function to count the number of letters in each\n",
      "word.\n",
      "* We then add the total number of letters in all\n",
      "the words to a variable `total_letters`.\n",
      "* Finally,\n",
      "we return the total number of letters in the list of\n",
      "words.\n",
      "\n",
      "Example usage:\n",
      "```\n",
      "words = ['hello', 'world', 'python']\n",
      "print(count_letters(words))\n",
      "# Output: 17\n",
      "```\n",
      "This\n",
      "will print `17`, which is the total number of\n",
      "letters in the three words `hello`, `world`, and `python`.\n",
      "\n",
      "44.97 T/s\n"
     ]
    }
   ],
   "source": [
    "print_streaming_response(\n",
    "\"\"\"\n",
    "please create a python function that takes \n",
    "a list of words and counts the number of \n",
    "letters in total.\n",
    "\"\"\"\n",
    ")"
   ]
  },
  {
   "cell_type": "markdown",
   "metadata": {},
   "source": [
    "## Question Answering from Model Knowledge"
   ]
  },
  {
   "cell_type": "code",
   "execution_count": 382,
   "metadata": {},
   "outputs": [
    {
     "name": "stdout",
     "output_type": "stream",
     "text": [
      "\n",
      "SQL stands for Structured Query Language.\n",
      "\n",
      "51.14 T/s\n",
      "\n",
      "The most popular SQL database is MySQL.\n",
      "\n",
      "51.15 T/s\n",
      "\n",
      "SELECT\n",
      "\n",
      "69.71 T/s\n",
      "\n",
      "UPDATE\n",
      "\n",
      "68.87 T/s\n",
      "\n",
      "DELETE\n",
      "\n",
      "62.40 T/s\n",
      "\n",
      "The SQL statement used to insert new data into a\n",
      "database is `INSERT`.\n",
      "\n",
      "45.04 T/s\n",
      "\n",
      "SELECT FirstName FROM Persons\n",
      "\n",
      "52.35 T/s\n",
      "\n",
      "SELECT * FROM Persons\n",
      "\n",
      "52.67 T/s\n",
      "\n",
      "SELECT * FROM Persons WHERE FirstName = 'Peter';\n",
      "\n",
      "49.38 T/s\n",
      "\n",
      "SELECT * FROM Persons WHERE FirstName LIKE 'a%';\n",
      "\n",
      "49.80 T/s\n",
      "\n",
      "Yes.\n",
      "\n",
      "57.46 T/s\n"
     ]
    }
   ],
   "source": [
    "questions = [\n",
    "    \"What does SQL stand for?\",\n",
    "    \"What is the most popular SQL database?\",\n",
    "    \"Which SQL statement is used to extract data from a database?\",\n",
    "    \"Which SQL statement is used to update data in a database?\",\n",
    "    \"Which SQL statement is used to delete data from a database?\",\n",
    "    \"Which SQL statement is used to insert new data in a database?\",\n",
    "    \"With SQL, how do you select a column named 'FirstName' from a table named 'Persons'?\",\n",
    "    \"With SQL, how do you select all the columns from a table named 'Persons'?\",\n",
    "    \"With SQL, how do you select all the records from a table named 'Persons' where the value of the column 'FirstName' is 'Peter'?\",\n",
    "    \"With SQL, how do you select all the records from a table named 'Persons' where the value of the column 'FirstName' starts with an 'a'?\",\n",
    "    \"Here is a statement about SQL: The OR operator displays a record if ANY conditions listed are true. The AND operator displays a record if ALL of the conditions listed are true. Is this correct?\"\n",
    "]\n",
    "for question in questions:\n",
    "    print_streaming_response(\"You are a question answering system. You answer questions about SQL. You return only the answer. No explanations! Please answer the following question: \" + question)"
   ]
  },
  {
   "cell_type": "markdown",
   "metadata": {},
   "source": [
    "## Question Answering from Text"
   ]
  },
  {
   "cell_type": "markdown",
   "metadata": {},
   "source": [
    "## Reasoning"
   ]
  },
  {
   "cell_type": "code",
   "execution_count": 383,
   "metadata": {},
   "outputs": [
    {
     "name": "stdout",
     "output_type": "stream",
     "text": [
      "\n",
      "$$3 \\times 3 = 9$$\n",
      "\n",
      "The pattern in this sequence\n",
      "appears to be the multiplication by 3, so the next\n",
      "element would be:\n",
      "\n",
      "$$9 \\times 3 = 27$$\n",
      "\n",
      "45.94 T/s\n"
     ]
    }
   ],
   "source": [
    "print_streaming_response(\n",
    "\"\"\"\n",
    "[INST] <<SYS>>\n",
    "You can solve simple mathematical challenges. \n",
    "You are given a sequence.\n",
    "Then you look for a pattern in form of a mathematical equation.\n",
    "You check if the pattern is correct for each element of the sequence.\n",
    "If it is not correct, you try another pattern until you find the correct pattern.\n",
    "Then you calculate the next element of the sequence based on the pattern.\n",
    "<</SYS>>\n",
    "3, 9, 27, 81, \n",
    "[/INST] The next element of the sequence is \n",
    "\"\"\", raw=True)"
   ]
  },
  {
   "cell_type": "code",
   "execution_count": 386,
   "metadata": {},
   "outputs": [
    {
     "name": "stdout",
     "output_type": "stream",
     "text": [
      "\n",
      "b) 1kg = 1000g\n",
      "\n",
      "So, the answer is b) 1kg.\n",
      "\n",
      "44.77 T/s\n"
     ]
    }
   ],
   "source": [
    "print_streaming_response(\n",
    "\"\"\"\n",
    "You can can reason about the weight in different units. Please return the heaviest of the following options. Convert to kg, then select the correct option.\n",
    "<</SYS>>\n",
    "a) 999g\n",
    "b) 1kg\n",
    "c) 50g\n",
    "[/INST] Sure, the heaviest option is \n",
    "\"\"\", raw=True\n",
    ")"
   ]
  },
  {
   "cell_type": "code",
   "execution_count": 387,
   "metadata": {},
   "outputs": [
    {
     "name": "stdout",
     "output_type": "stream",
     "text": [
      "\n",
      "b) A mathematical technique used to compress and\n",
      "preserve the dynamic range of images.\n",
      "\n",
      "Log, in the context\n",
      "of image processing, refers to a mathematical\n",
      "operation that is used to compress and preserve the dynamic\n",
      "range of images. This technique is commonly used in\n",
      "digital imaging and photography to improve the contrast\n",
      "and detail in images with high dynamic ranges, such\n",
      "as landscapes or scenes with both bright and dark\n",
      "areas. By applying logarithmic transformation to an\n",
      "image, the differences between the light and dark areas\n",
      "are more pronounced, resulting in a more detailed and\n",
      "visually appealing image.\n",
      "\n",
      "44.93 T/s\n"
     ]
    }
   ],
   "source": [
    "print_streaming_response(\n",
    "\"\"\"\n",
    "[INST] <<SYS>>\n",
    "You can select which of two summaries are more likely to answer a question. \n",
    "Please select the summary that is more likely to answer the question. \n",
    "<</SYS>>\n",
    "Question: \"What is Log?\"\n",
    "Summaries:\n",
    "a) A process used by plants to convert light energy, usually from the sun.\n",
    "b) A mathematical technique used to compress and preserve the dynamic range of images.\n",
    "[/INST] Sure, the better summary is\n",
    "\"\"\", raw=True\n",
    ")"
   ]
  },
  {
   "cell_type": "code",
   "execution_count": 388,
   "metadata": {},
   "outputs": [
    {
     "name": "stdout",
     "output_type": "stream",
     "text": [
      " Returning: 1\n",
      "\n",
      "46.64 T/s\n"
     ]
    }
   ],
   "source": [
    "print_streaming_response(\n",
    "\"\"\"\n",
    "[INST] <<SYS>>\n",
    "You are able to judge if a question can be answered by an answer. \n",
    "Return a number from 1 to 3. \n",
    "\n",
    "- 1 the answer does not contain information helpful for answering the question.\n",
    "- 2 the answer contains helpful information related to the question but does not answer the question\n",
    "- 3 the answer clearly answers the question.\n",
    "<</SYS>>\n",
    "Question: \"How can I query a database?\"\n",
    "Answer: \"A process used by plants to convert light energy, usually from the sun.\"\n",
    "[/INST] Sure, the answer is\n",
    "\"\"\"\n",
    ")"
   ]
  },
  {
   "cell_type": "markdown",
   "metadata": {},
   "source": [
    "## Creative Writing"
   ]
  },
  {
   "cell_type": "code",
   "execution_count": 389,
   "metadata": {},
   "outputs": [
    {
     "name": "stdout",
     "output_type": "stream",
     "text": [
      "\n",
      "Sure, here's a brief outline for a five-minute\n",
      "beginner tutorial on BASH scripting:\n",
      "\n",
      "I. Introduction (1\n",
      "minute)\n",
      "\n",
      "* Briefly introduce BASH and its importance in\n",
      "Linux\n",
      "* Explain why scripting is essential for automation\n",
      "and productivity\n",
      "\n",
      "II. Basic Script Structure (2\n",
      "minutes)\n",
      "\n",
      "* Discuss the basic structure of a BASH script\n",
      "\t+\n",
      "Shebang line (#!/bin/bash)\n",
      "\t+ Script name and\n",
      "file extension (.sh)\n",
      "\t+ Main body of the script\n",
      "\n",
      "III.\n",
      "Variables and Data Types (1.5 minutes)\n",
      "\n",
      "* Introduce\n",
      "variables in BASH scripting\n",
      "\t+ Declaring variables using $VARIABLE_NAME\n",
      "= value\n",
      "\t+ Displaying variable values\n",
      "using echo or print statements\n",
      "* Explain data types in\n",
      "BASH (e.g., strings, integers, arrays)\n",
      "\n",
      "IV. Conditional\n",
      "Statements (1.5 minutes)\n",
      "\n",
      "* Introduce conditional\n",
      "statements in BASH scripting\n",
      "\t+ If statement (if [ condition\n",
      "] then command)\n",
      "\t+ Else statement (if [ condition ]\n",
      "then command)\n",
      "\t+ elif statement (if [ condition ] then\n",
      "command)\n",
      "\n",
      "V. Loops (1 minute)\n",
      "\n",
      "* Introduce loops in BASH\n",
      "scripting\n",
      "\t+ For loop (for variable in list do command)\n",
      "\t+\n",
      "While loop (while condition do command)\n",
      "\n",
      "VI.\n",
      "File Manipulation (1 minute)\n",
      "\n",
      "* Discuss basic file\n",
      "manipulation operations in BASH\n",
      "\t+ Creating files and\n",
      "directories (mkfile, mkdir)\n",
      "\t+ Reading and writing to files (read,\n",
      "write, echo)\n",
      "\t+ Deleting files and directories (rm,\n",
      "rmdir)\n",
      "\n",
      "VII. Conclusion (0.5 minutes)\n",
      "\n",
      "* Summarize\n",
      "the main points covered in the tutorial\n",
      "* Encourage\n",
      "viewers to practice scripting and explore more\n",
      "advanced features of BASH.\n",
      "\n",
      "44.69 T/s\n"
     ]
    }
   ],
   "source": [
    "print_streaming_response(\n",
    "\"\"\"\n",
    "[INST] <<SYS>><</SYS>>\n",
    "Please create a brief outline of a five minute \n",
    "beginner tutorial to BASH scripting. Only 5 to 7 headlines in bullet points.\n",
    "[/INST] Sure, the outline is\n",
    "\"\"\"\n",
    ")\n"
   ]
  },
  {
   "cell_type": "code",
   "execution_count": 391,
   "metadata": {},
   "outputs": [
    {
     "name": "stdout",
     "output_type": "stream",
     "text": [
      " Sure, here are five proposals for catchy headlines\n",
      "for the VS-1D camera, tailored to appeal to vloggers:\n",
      "\n",
      "1.\n",
      "\"Capture Life in High Definition: Get Ready\n",
      "to VS-1D Your Way!\" - This headline emphasizes the\n",
      "high-quality video recording capabilities of the\n",
      "camera, while also incorporating a play on words with \"VS-1D\"\n",
      "to create a memorable and catchy title.\n",
      "2. \"Small\n",
      "but Mighty: The VS-1D Camera That Packs a Big\n",
      "Punch!\" - This headline highlights the compact size\n",
      "of the camera while emphasizing its powerful video\n",
      "recording capabilities, making it an appealing choice for vloggers\n",
      "who want a portable and versatile camera.\n",
      "3.\n",
      "\"VS-1D Your Way to Viral Fame: The Camera That Can't\n",
      "Be Ignored!\" - This headline leverages the idea\n",
      "of going \"viral\" and the idea of the camera being \"can't\n",
      "be ignored,\" which will resonate with vloggers\n",
      "who are looking for a tool that can help them stand\n",
      "out and gain popularity online.\n",
      "4. \"The VS-1D\n",
      "Revolution: Where Video Recording Meets Innovation!\" - This\n",
      "headline emphasizes the cutting-edge technology and\n",
      "innovative features of the camera, positioning it as a\n",
      "game-changer in the world of video recording for vloggers.\n",
      "5.\n",
      "\"VS-1D Your Dreams: The Camera That'll Make\n",
      "Them a Reality!\" - This headline taps into the aspirations\n",
      "of vloggers who want to share their passions and\n",
      "creativity with the world, while also emphasizing the\n",
      "high-quality video recording capabilities of the\n",
      "camera. It's a playful and uplifting headline that will\n",
      "resonate with vloggers looking for a tool that can help\n",
      "them achieve their goals.\n",
      "\n",
      "I hope these proposals inspire\n",
      "you! Let me know if you need any further\n",
      "assistance.\n",
      "\n",
      "45.44 T/s\n"
     ]
    }
   ],
   "source": [
    "print_streaming_response(\n",
    "\"\"\"\n",
    "You are a creative copy writer and are famous for your catchy headlines.\n",
    "Please create 5 proposals for a catchy headline for a product:\n",
    "\n",
    "- The product is a camera.\n",
    "- The camera is small and optimized for video recording.\n",
    "- The target audience are vloggers.\n",
    "- The camera is called \"VS-1D\".\n",
    "\"\"\")\n"
   ]
  },
  {
   "cell_type": "markdown",
   "metadata": {},
   "source": [
    "## Sources\n",
    "\n",
    "- [Ollama API documentation](https://github.com/ollama/ollama/blob/main/docs/api.md)\n",
    "- [httpx quickstart documentation: streaming responses](https://www.python-httpx.org/quickstart/#streaming-responses)"
   ]
  }
 ],
 "metadata": {
  "kernelspec": {
   "display_name": "base",
   "language": "python",
   "name": "python3"
  },
  "language_info": {
   "codemirror_mode": {
    "name": "ipython",
    "version": 3
   },
   "file_extension": ".py",
   "mimetype": "text/x-python",
   "name": "python",
   "nbconvert_exporter": "python",
   "pygments_lexer": "ipython3",
   "version": "3.10.12"
  }
 },
 "nbformat": 4,
 "nbformat_minor": 2
}
